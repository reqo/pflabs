{
 "cells": [
  {
   "cell_type": "markdown",
   "metadata": {},
   "source": [
    "![Greece Flag](https://upload.wikimedia.org/wikipedia/commons/thumb/5/5c/Flag_of_Greece.svg/320px-Flag_of_Greece.svg.png)\n",
    "\n",
    "# <font color='blue'><center>Greece</center></font>\n",
    "| Capital | Official language |         Religion        |           Government           |     Area    | Population |\n",
    "|:-------:|:-----------------:|:-----------------------:|:------------------------------:|:-----------:|:----------:|\n",
    "| Athens  | Greek             | Eastern Orthodox Church | Unitary parliamentary republic | 131,957 km2 | 10,724,599 |\n",
    "\n",
    " **President** - [Katerina Sakellaropoulou](https://www.instagram.com/presidencygr/?hl=uk)\n",
    "### Cultural attractions\n",
    "* ___Acropolis, Athens___  \n",
    "Considered the symbol of Athens and Greece, and indeed of Western civilization, the Acropolis is a rocky mound rising in the heart of modern Athens, crowned by three magnificent temples dating from the 5th century BC.\n",
    "* ___Acropolis Museum, Athens___  \n",
    "The Acropolis Museum is one of Athens' most-visited tourist attractions.\n",
    "* ___Santorini___  \n",
    "Stunning Santorini is the most dramatic of all the Greek isles. It is best known for the west coast cliff-top towns of Fira and Oia, which appear to hang over a deep, blue sea-filled caldera."
   ]
  },
  {
   "cell_type": "code",
   "execution_count": 19,
   "metadata": {},
   "outputs": [],
   "source": [
    "import math\n",
    "\n",
    "MAX=10000;\n",
    "primes=[];\n",
    "\n",
    "def sieveSundaram():\n",
    "    marked=[False]*(int(MAX/2)+100);\n",
    "    for i in range(1, int((math.sqrt(MAX)-1)/2)+1):\n",
    "        for j in range((i*(i+1))<< 1, int(MAX/2)+1, 2*i+1):\n",
    "            marked[j]=True;\n",
    "            \n",
    "    primes.append(2);\n",
    "    \n",
    "    for i in range(1, int(MAX/2)+1):\n",
    "        if (marked[i]==False):\n",
    "            primes.append(2*i+1);        \n",
    "            \n",
    "def findPrimes(n):\n",
    "    n = int(n)\n",
    "    if (n <=2 or n % 2 !=0):\n",
    "        print(\"Number must be even and greater than 2\");\n",
    "        return;\n",
    "    i=0;\n",
    "    while (primes[i] <= n //2):\n",
    "        diff=n-primes[i];\n",
    "        if diff in primes:\n",
    "            print(\"Number\", n, \"can be expressed as\", primes[i], \"+\", diff);\n",
    "            return;\n",
    "        i+=1;\n",
    "\n",
    "def task1():\n",
    "    n = input(\"Enter even number greater than 2:\\n\")\n",
    "    if (n.isdigit()):\n",
    "        sieveSundaram();\n",
    "        findPrimes(n);                \n",
    "    else:\n",
    "        print(\"Non numerical input\")\n",
    "        \n",
    "\n"
   ]
  },
  {
   "cell_type": "code",
   "execution_count": 21,
   "metadata": {},
   "outputs": [
    {
     "name": "stdout",
     "output_type": "stream",
     "text": [
      "Enter even number greater than 2:\n",
      "weer\n",
      "Non numerical input\n"
     ]
    }
   ],
   "source": [
    "task1()"
   ]
  },
  {
   "cell_type": "code",
   "execution_count": 22,
   "metadata": {},
   "outputs": [
    {
     "name": "stdout",
     "output_type": "stream",
     "text": [
      "Enter even number greater than 2:\n",
      "15\n",
      "Number must be even and greater than 2\n"
     ]
    }
   ],
   "source": [
    "task1()"
   ]
  },
  {
   "cell_type": "code",
   "execution_count": 23,
   "metadata": {},
   "outputs": [
    {
     "name": "stdout",
     "output_type": "stream",
     "text": [
      "Enter even number greater than 2:\n",
      "168\n",
      "Number 168 can be expressed as 5 + 163\n"
     ]
    }
   ],
   "source": [
    "task1()"
   ]
  }
 ],
 "metadata": {
  "kernelspec": {
   "display_name": "Python 3",
   "language": "python",
   "name": "python3"
  },
  "language_info": {
   "codemirror_mode": {
    "name": "ipython",
    "version": 3
   },
   "file_extension": ".py",
   "mimetype": "text/x-python",
   "name": "python",
   "nbconvert_exporter": "python",
   "pygments_lexer": "ipython3",
   "version": "3.8.5"
  }
 },
 "nbformat": 4,
 "nbformat_minor": 4
}
